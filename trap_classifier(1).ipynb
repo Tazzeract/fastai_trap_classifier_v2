{
  "nbformat": 4,
  "nbformat_minor": 0,
  "metadata": {
    "colab": {
      "provenance": []
    },
    "kernelspec": {
      "name": "python3",
      "display_name": "Python 3"
    },
    "language_info": {
      "name": "python"
    },
    "widgets": {
      "application/vnd.jupyter.widget-state+json": {
        "2fd4fcd3a9564b3d8ac6348aa3556de5": {
          "model_module": "@jupyter-widgets/controls",
          "model_name": "VBoxModel",
          "model_module_version": "1.5.0",
          "state": {
            "_dom_classes": [],
            "_model_module": "@jupyter-widgets/controls",
            "_model_module_version": "1.5.0",
            "_model_name": "VBoxModel",
            "_view_count": null,
            "_view_module": "@jupyter-widgets/controls",
            "_view_module_version": "1.5.0",
            "_view_name": "VBoxView",
            "box_style": "",
            "children": [
              "IPY_MODEL_b366dc4bc2db4689866bdaf10094240a",
              "IPY_MODEL_cd491682d02749f88105a2664fb0fd02",
              "IPY_MODEL_34aa514c0a724555b6a712ec447af36a",
              "IPY_MODEL_4ba1354b3bb44704a02ea8a177a1a46b",
              "IPY_MODEL_d6e0f54cc4fe42f59ffb5378c600414f"
            ],
            "layout": "IPY_MODEL_de9625b8e6044de68842b2bdce0deaa3"
          }
        },
        "b366dc4bc2db4689866bdaf10094240a": {
          "model_module": "@jupyter-widgets/controls",
          "model_name": "LabelModel",
          "model_module_version": "1.5.0",
          "state": {
            "_dom_classes": [],
            "_model_module": "@jupyter-widgets/controls",
            "_model_module_version": "1.5.0",
            "_model_name": "LabelModel",
            "_view_count": null,
            "_view_module": "@jupyter-widgets/controls",
            "_view_module_version": "1.5.0",
            "_view_name": "LabelView",
            "description": "",
            "description_tooltip": null,
            "layout": "IPY_MODEL_f3e2b465224a4daea0b2b6af7a7cb36d",
            "placeholder": "​",
            "style": "IPY_MODEL_f9dbd1b09e72457aad2f1836149675e1",
            "value": "Select your bear!"
          }
        },
        "cd491682d02749f88105a2664fb0fd02": {
          "model_module": "@jupyter-widgets/controls",
          "model_name": "FileUploadModel",
          "model_module_version": "1.5.0",
          "state": {
            "_counter": 1,
            "_dom_classes": [],
            "_model_module": "@jupyter-widgets/controls",
            "_model_module_version": "1.5.0",
            "_model_name": "FileUploadModel",
            "_view_count": null,
            "_view_module": "@jupyter-widgets/controls",
            "_view_module_version": "1.5.0",
            "_view_name": "FileUploadView",
            "accept": "",
            "button_style": "",
            "data": [
              null
            ],
            "description": "Upload",
            "description_tooltip": null,
            "disabled": false,
            "error": "",
            "icon": "upload",
            "layout": "IPY_MODEL_13bd1a6bc75e45e7849b5b2419cede31",
            "metadata": [
              {
                "name": "rain coat girl.jpg",
                "type": "image/jpeg",
                "size": 6893,
                "lastModified": 1696208700493
              }
            ],
            "multiple": false,
            "style": "IPY_MODEL_81c78598bf0d4552ae2b9acc666bc2c4"
          }
        },
        "34aa514c0a724555b6a712ec447af36a": {
          "model_module": "@jupyter-widgets/controls",
          "model_name": "ButtonModel",
          "model_module_version": "1.5.0",
          "state": {
            "_dom_classes": [],
            "_model_module": "@jupyter-widgets/controls",
            "_model_module_version": "1.5.0",
            "_model_name": "ButtonModel",
            "_view_count": null,
            "_view_module": "@jupyter-widgets/controls",
            "_view_module_version": "1.5.0",
            "_view_name": "ButtonView",
            "button_style": "",
            "description": "Classify",
            "disabled": false,
            "icon": "",
            "layout": "IPY_MODEL_9f38a96868974608a7477bd7de904f47",
            "style": "IPY_MODEL_1240d4410fba47b1a3622c1c1347aa9f",
            "tooltip": ""
          }
        },
        "4ba1354b3bb44704a02ea8a177a1a46b": {
          "model_module": "@jupyter-widgets/output",
          "model_name": "OutputModel",
          "model_module_version": "1.0.0",
          "state": {
            "_dom_classes": [],
            "_model_module": "@jupyter-widgets/output",
            "_model_module_version": "1.0.0",
            "_model_name": "OutputModel",
            "_view_count": null,
            "_view_module": "@jupyter-widgets/output",
            "_view_module_version": "1.0.0",
            "_view_name": "OutputView",
            "layout": "IPY_MODEL_0f196a592fb046a6bdad3ac86ebe896c",
            "msg_id": "",
            "outputs": [
              {
                "output_type": "display_data",
                "data": {
                  "text/plain": "<PIL.Image.Image image mode=RGB size=94x128>",
                  "image/png": "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\n"
                },
                "metadata": {}
              }
            ]
          }
        },
        "d6e0f54cc4fe42f59ffb5378c600414f": {
          "model_module": "@jupyter-widgets/controls",
          "model_name": "LabelModel",
          "model_module_version": "1.5.0",
          "state": {
            "_dom_classes": [],
            "_model_module": "@jupyter-widgets/controls",
            "_model_module_version": "1.5.0",
            "_model_name": "LabelModel",
            "_view_count": null,
            "_view_module": "@jupyter-widgets/controls",
            "_view_module_version": "1.5.0",
            "_view_name": "LabelView",
            "description": "",
            "description_tooltip": null,
            "layout": "IPY_MODEL_ee910a714aa8405d99d8d1fee5b62a05",
            "placeholder": "​",
            "style": "IPY_MODEL_6e49b36bd01c4d1f8b852b4971e092ef",
            "value": "Prediction: girl; Probability: 0.5827"
          }
        },
        "de9625b8e6044de68842b2bdce0deaa3": {
          "model_module": "@jupyter-widgets/base",
          "model_name": "LayoutModel",
          "model_module_version": "1.2.0",
          "state": {
            "_model_module": "@jupyter-widgets/base",
            "_model_module_version": "1.2.0",
            "_model_name": "LayoutModel",
            "_view_count": null,
            "_view_module": "@jupyter-widgets/base",
            "_view_module_version": "1.2.0",
            "_view_name": "LayoutView",
            "align_content": null,
            "align_items": null,
            "align_self": null,
            "border": null,
            "bottom": null,
            "display": null,
            "flex": null,
            "flex_flow": null,
            "grid_area": null,
            "grid_auto_columns": null,
            "grid_auto_flow": null,
            "grid_auto_rows": null,
            "grid_column": null,
            "grid_gap": null,
            "grid_row": null,
            "grid_template_areas": null,
            "grid_template_columns": null,
            "grid_template_rows": null,
            "height": null,
            "justify_content": null,
            "justify_items": null,
            "left": null,
            "margin": null,
            "max_height": null,
            "max_width": null,
            "min_height": null,
            "min_width": null,
            "object_fit": null,
            "object_position": null,
            "order": null,
            "overflow": null,
            "overflow_x": null,
            "overflow_y": null,
            "padding": null,
            "right": null,
            "top": null,
            "visibility": null,
            "width": null
          }
        },
        "f3e2b465224a4daea0b2b6af7a7cb36d": {
          "model_module": "@jupyter-widgets/base",
          "model_name": "LayoutModel",
          "model_module_version": "1.2.0",
          "state": {
            "_model_module": "@jupyter-widgets/base",
            "_model_module_version": "1.2.0",
            "_model_name": "LayoutModel",
            "_view_count": null,
            "_view_module": "@jupyter-widgets/base",
            "_view_module_version": "1.2.0",
            "_view_name": "LayoutView",
            "align_content": null,
            "align_items": null,
            "align_self": null,
            "border": null,
            "bottom": null,
            "display": null,
            "flex": null,
            "flex_flow": null,
            "grid_area": null,
            "grid_auto_columns": null,
            "grid_auto_flow": null,
            "grid_auto_rows": null,
            "grid_column": null,
            "grid_gap": null,
            "grid_row": null,
            "grid_template_areas": null,
            "grid_template_columns": null,
            "grid_template_rows": null,
            "height": null,
            "justify_content": null,
            "justify_items": null,
            "left": null,
            "margin": null,
            "max_height": null,
            "max_width": null,
            "min_height": null,
            "min_width": null,
            "object_fit": null,
            "object_position": null,
            "order": null,
            "overflow": null,
            "overflow_x": null,
            "overflow_y": null,
            "padding": null,
            "right": null,
            "top": null,
            "visibility": null,
            "width": null
          }
        },
        "f9dbd1b09e72457aad2f1836149675e1": {
          "model_module": "@jupyter-widgets/controls",
          "model_name": "DescriptionStyleModel",
          "model_module_version": "1.5.0",
          "state": {
            "_model_module": "@jupyter-widgets/controls",
            "_model_module_version": "1.5.0",
            "_model_name": "DescriptionStyleModel",
            "_view_count": null,
            "_view_module": "@jupyter-widgets/base",
            "_view_module_version": "1.2.0",
            "_view_name": "StyleView",
            "description_width": ""
          }
        },
        "13bd1a6bc75e45e7849b5b2419cede31": {
          "model_module": "@jupyter-widgets/base",
          "model_name": "LayoutModel",
          "model_module_version": "1.2.0",
          "state": {
            "_model_module": "@jupyter-widgets/base",
            "_model_module_version": "1.2.0",
            "_model_name": "LayoutModel",
            "_view_count": null,
            "_view_module": "@jupyter-widgets/base",
            "_view_module_version": "1.2.0",
            "_view_name": "LayoutView",
            "align_content": null,
            "align_items": null,
            "align_self": null,
            "border": null,
            "bottom": null,
            "display": null,
            "flex": null,
            "flex_flow": null,
            "grid_area": null,
            "grid_auto_columns": null,
            "grid_auto_flow": null,
            "grid_auto_rows": null,
            "grid_column": null,
            "grid_gap": null,
            "grid_row": null,
            "grid_template_areas": null,
            "grid_template_columns": null,
            "grid_template_rows": null,
            "height": null,
            "justify_content": null,
            "justify_items": null,
            "left": null,
            "margin": null,
            "max_height": null,
            "max_width": null,
            "min_height": null,
            "min_width": null,
            "object_fit": null,
            "object_position": null,
            "order": null,
            "overflow": null,
            "overflow_x": null,
            "overflow_y": null,
            "padding": null,
            "right": null,
            "top": null,
            "visibility": null,
            "width": null
          }
        },
        "81c78598bf0d4552ae2b9acc666bc2c4": {
          "model_module": "@jupyter-widgets/controls",
          "model_name": "ButtonStyleModel",
          "model_module_version": "1.5.0",
          "state": {
            "_model_module": "@jupyter-widgets/controls",
            "_model_module_version": "1.5.0",
            "_model_name": "ButtonStyleModel",
            "_view_count": null,
            "_view_module": "@jupyter-widgets/base",
            "_view_module_version": "1.2.0",
            "_view_name": "StyleView",
            "button_color": null,
            "font_weight": ""
          }
        },
        "9f38a96868974608a7477bd7de904f47": {
          "model_module": "@jupyter-widgets/base",
          "model_name": "LayoutModel",
          "model_module_version": "1.2.0",
          "state": {
            "_model_module": "@jupyter-widgets/base",
            "_model_module_version": "1.2.0",
            "_model_name": "LayoutModel",
            "_view_count": null,
            "_view_module": "@jupyter-widgets/base",
            "_view_module_version": "1.2.0",
            "_view_name": "LayoutView",
            "align_content": null,
            "align_items": null,
            "align_self": null,
            "border": null,
            "bottom": null,
            "display": null,
            "flex": null,
            "flex_flow": null,
            "grid_area": null,
            "grid_auto_columns": null,
            "grid_auto_flow": null,
            "grid_auto_rows": null,
            "grid_column": null,
            "grid_gap": null,
            "grid_row": null,
            "grid_template_areas": null,
            "grid_template_columns": null,
            "grid_template_rows": null,
            "height": null,
            "justify_content": null,
            "justify_items": null,
            "left": null,
            "margin": null,
            "max_height": null,
            "max_width": null,
            "min_height": null,
            "min_width": null,
            "object_fit": null,
            "object_position": null,
            "order": null,
            "overflow": null,
            "overflow_x": null,
            "overflow_y": null,
            "padding": null,
            "right": null,
            "top": null,
            "visibility": null,
            "width": null
          }
        },
        "1240d4410fba47b1a3622c1c1347aa9f": {
          "model_module": "@jupyter-widgets/controls",
          "model_name": "ButtonStyleModel",
          "model_module_version": "1.5.0",
          "state": {
            "_model_module": "@jupyter-widgets/controls",
            "_model_module_version": "1.5.0",
            "_model_name": "ButtonStyleModel",
            "_view_count": null,
            "_view_module": "@jupyter-widgets/base",
            "_view_module_version": "1.2.0",
            "_view_name": "StyleView",
            "button_color": null,
            "font_weight": ""
          }
        },
        "ee910a714aa8405d99d8d1fee5b62a05": {
          "model_module": "@jupyter-widgets/base",
          "model_name": "LayoutModel",
          "model_module_version": "1.2.0",
          "state": {
            "_model_module": "@jupyter-widgets/base",
            "_model_module_version": "1.2.0",
            "_model_name": "LayoutModel",
            "_view_count": null,
            "_view_module": "@jupyter-widgets/base",
            "_view_module_version": "1.2.0",
            "_view_name": "LayoutView",
            "align_content": null,
            "align_items": null,
            "align_self": null,
            "border": null,
            "bottom": null,
            "display": null,
            "flex": null,
            "flex_flow": null,
            "grid_area": null,
            "grid_auto_columns": null,
            "grid_auto_flow": null,
            "grid_auto_rows": null,
            "grid_column": null,
            "grid_gap": null,
            "grid_row": null,
            "grid_template_areas": null,
            "grid_template_columns": null,
            "grid_template_rows": null,
            "height": null,
            "justify_content": null,
            "justify_items": null,
            "left": null,
            "margin": null,
            "max_height": null,
            "max_width": null,
            "min_height": null,
            "min_width": null,
            "object_fit": null,
            "object_position": null,
            "order": null,
            "overflow": null,
            "overflow_x": null,
            "overflow_y": null,
            "padding": null,
            "right": null,
            "top": null,
            "visibility": null,
            "width": null
          }
        },
        "6e49b36bd01c4d1f8b852b4971e092ef": {
          "model_module": "@jupyter-widgets/controls",
          "model_name": "DescriptionStyleModel",
          "model_module_version": "1.5.0",
          "state": {
            "_model_module": "@jupyter-widgets/controls",
            "_model_module_version": "1.5.0",
            "_model_name": "DescriptionStyleModel",
            "_view_count": null,
            "_view_module": "@jupyter-widgets/base",
            "_view_module_version": "1.2.0",
            "_view_name": "StyleView",
            "description_width": ""
          }
        },
        "0f196a592fb046a6bdad3ac86ebe896c": {
          "model_module": "@jupyter-widgets/base",
          "model_name": "LayoutModel",
          "model_module_version": "1.2.0",
          "state": {
            "_model_module": "@jupyter-widgets/base",
            "_model_module_version": "1.2.0",
            "_model_name": "LayoutModel",
            "_view_count": null,
            "_view_module": "@jupyter-widgets/base",
            "_view_module_version": "1.2.0",
            "_view_name": "LayoutView",
            "align_content": null,
            "align_items": null,
            "align_self": null,
            "border": null,
            "bottom": null,
            "display": null,
            "flex": null,
            "flex_flow": null,
            "grid_area": null,
            "grid_auto_columns": null,
            "grid_auto_flow": null,
            "grid_auto_rows": null,
            "grid_column": null,
            "grid_gap": null,
            "grid_row": null,
            "grid_template_areas": null,
            "grid_template_columns": null,
            "grid_template_rows": null,
            "height": null,
            "justify_content": null,
            "justify_items": null,
            "left": null,
            "margin": null,
            "max_height": null,
            "max_width": null,
            "min_height": null,
            "min_width": null,
            "object_fit": null,
            "object_position": null,
            "order": null,
            "overflow": null,
            "overflow_x": null,
            "overflow_y": null,
            "padding": null,
            "right": null,
            "top": null,
            "visibility": null,
            "width": null
          }
        }
      }
    }
  },
  "cells": [
    {
      "cell_type": "code",
      "source": [
        "#hide\n",
        "! [ -e /content ] && pip install -Uqq fastbook\n",
        "import fastbook\n",
        "fastbook.setup_book()"
      ],
      "metadata": {
        "colab": {
          "base_uri": "https://localhost:8080/"
        },
        "id": "94Q5V1XZ9hmB",
        "outputId": "c5dffa6c-d7ca-4baa-9885-5d1169f68188"
      },
      "execution_count": 2,
      "outputs": [
        {
          "output_type": "stream",
          "name": "stdout",
          "text": [
            "\u001b[2K     \u001b[90m━━━━━━━━━━━━━━━━━━━━━━━━━━━━━━━━━━━━━━━\u001b[0m \u001b[32m719.8/719.8 kB\u001b[0m \u001b[31m5.6 MB/s\u001b[0m eta \u001b[36m0:00:00\u001b[0m\n",
            "\u001b[2K     \u001b[90m━━━━━━━━━━━━━━━━━━━━━━━━━━━━━━━━━━━━━━━━\u001b[0m \u001b[32m7.6/7.6 MB\u001b[0m \u001b[31m19.5 MB/s\u001b[0m eta \u001b[36m0:00:00\u001b[0m\n",
            "\u001b[2K     \u001b[90m━━━━━━━━━━━━━━━━━━━━━━━━━━━━━━━━━━━━━━\u001b[0m \u001b[32m519.6/519.6 kB\u001b[0m \u001b[31m24.4 MB/s\u001b[0m eta \u001b[36m0:00:00\u001b[0m\n",
            "\u001b[2K     \u001b[90m━━━━━━━━━━━━━━━━━━━━━━━━━━━━━━━━━━━━━━━━\u001b[0m \u001b[32m1.3/1.3 MB\u001b[0m \u001b[31m33.7 MB/s\u001b[0m eta \u001b[36m0:00:00\u001b[0m\n",
            "\u001b[2K     \u001b[90m━━━━━━━━━━━━━━━━━━━━━━━━━━━━━━━━━━━━━━\u001b[0m \u001b[32m115.3/115.3 kB\u001b[0m \u001b[31m13.1 MB/s\u001b[0m eta \u001b[36m0:00:00\u001b[0m\n",
            "\u001b[2K     \u001b[90m━━━━━━━━━━━━━━━━━━━━━━━━━━━━━━━━━━━━━━\u001b[0m \u001b[32m194.1/194.1 kB\u001b[0m \u001b[31m19.3 MB/s\u001b[0m eta \u001b[36m0:00:00\u001b[0m\n",
            "\u001b[2K     \u001b[90m━━━━━━━━━━━━━━━━━━━━━━━━━━━━━━━━━━━━━━\u001b[0m \u001b[32m134.8/134.8 kB\u001b[0m \u001b[31m13.5 MB/s\u001b[0m eta \u001b[36m0:00:00\u001b[0m\n",
            "\u001b[2K     \u001b[90m━━━━━━━━━━━━━━━━━━━━━━━━━━━━━━━━━━━━━━\u001b[0m \u001b[32m295.0/295.0 kB\u001b[0m \u001b[31m26.5 MB/s\u001b[0m eta \u001b[36m0:00:00\u001b[0m\n",
            "\u001b[2K     \u001b[90m━━━━━━━━━━━━━━━━━━━━━━━━━━━━━━━━━━━━━━━━\u001b[0m \u001b[32m7.8/7.8 MB\u001b[0m \u001b[31m48.4 MB/s\u001b[0m eta \u001b[36m0:00:00\u001b[0m\n",
            "\u001b[2K     \u001b[90m━━━━━━━━━━━━━━━━━━━━━━━━━━━━━━━━━━━━━━━━\u001b[0m \u001b[32m1.3/1.3 MB\u001b[0m \u001b[31m50.1 MB/s\u001b[0m eta \u001b[36m0:00:00\u001b[0m\n",
            "\u001b[2K     \u001b[90m━━━━━━━━━━━━━━━━━━━━━━━━━━━━━━━━━━━━━━━━\u001b[0m \u001b[32m1.6/1.6 MB\u001b[0m \u001b[31m53.6 MB/s\u001b[0m eta \u001b[36m0:00:00\u001b[0m\n",
            "\u001b[?25hMounted at /content/gdrive\n"
          ]
        }
      ]
    },
    {
      "cell_type": "code",
      "source": [
        "#hide\n",
        "from fastbook import *\n",
        "from fastai.vision.widgets import *"
      ],
      "metadata": {
        "id": "MIV3c7n69oBw"
      },
      "execution_count": 3,
      "outputs": []
    },
    {
      "cell_type": "code",
      "source": [
        "path = Path()\n",
        "learn_inf = load_learner(path/'export.pkl')\n",
        "\n",
        "btn_upload = widgets.FileUpload()\n",
        "\n",
        "out_pl = widgets.Output()\n",
        "\n",
        "lbl_pred = widgets.Label()\n",
        "\n",
        "btn_run = widgets.Button(description='Classify')\n",
        "\n",
        "def on_click_classify(change):\n",
        "    img = PILImage.create(btn_upload.data[-1])\n",
        "    out_pl.clear_output()\n",
        "    with out_pl: display(img.to_thumb(128,128))\n",
        "    pred,pred_idx,probs = learn_inf.predict(img)\n",
        "    lbl_pred.value = f'Prediction: {pred}; Probability: {probs[pred_idx]:.04f}'\n",
        "\n",
        "btn_run.on_click(on_click_classify)\n",
        "\n",
        "VBox([widgets.Label('Select your maybe girl!'),\n",
        "      btn_upload, btn_run, out_pl, lbl_pred])"
      ],
      "metadata": {
        "colab": {
          "base_uri": "https://localhost:8080/",
          "height": 273,
          "referenced_widgets": [
            "2fd4fcd3a9564b3d8ac6348aa3556de5",
            "b366dc4bc2db4689866bdaf10094240a",
            "cd491682d02749f88105a2664fb0fd02",
            "34aa514c0a724555b6a712ec447af36a",
            "4ba1354b3bb44704a02ea8a177a1a46b",
            "d6e0f54cc4fe42f59ffb5378c600414f",
            "de9625b8e6044de68842b2bdce0deaa3",
            "f3e2b465224a4daea0b2b6af7a7cb36d",
            "f9dbd1b09e72457aad2f1836149675e1",
            "13bd1a6bc75e45e7849b5b2419cede31",
            "81c78598bf0d4552ae2b9acc666bc2c4",
            "9f38a96868974608a7477bd7de904f47",
            "1240d4410fba47b1a3622c1c1347aa9f",
            "ee910a714aa8405d99d8d1fee5b62a05",
            "6e49b36bd01c4d1f8b852b4971e092ef",
            "0f196a592fb046a6bdad3ac86ebe896c"
          ]
        },
        "id": "clte0WRn-L7t",
        "outputId": "c577e45c-b545-4d94-b6de-23776c083621"
      },
      "execution_count": 7,
      "outputs": [
        {
          "output_type": "display_data",
          "data": {
            "text/plain": [
              "VBox(children=(Label(value='Select your bear!'), FileUpload(value={}, description='Upload'), Button(descriptio…"
            ],
            "application/vnd.jupyter.widget-view+json": {
              "version_major": 2,
              "version_minor": 0,
              "model_id": "2fd4fcd3a9564b3d8ac6348aa3556de5"
            }
          },
          "metadata": {}
        },
        {
          "output_type": "display_data",
          "data": {
            "text/plain": [
              "<IPython.core.display.HTML object>"
            ],
            "text/html": [
              "\n",
              "<style>\n",
              "    /* Turns off some styling */\n",
              "    progress {\n",
              "        /* gets rid of default border in Firefox and Opera. */\n",
              "        border: none;\n",
              "        /* Needs to be in here for Safari polyfill so background images work as expected. */\n",
              "        background-size: auto;\n",
              "    }\n",
              "    progress:not([value]), progress:not([value])::-webkit-progress-bar {\n",
              "        background: repeating-linear-gradient(45deg, #7e7e7e, #7e7e7e 10px, #5c5c5c 10px, #5c5c5c 20px);\n",
              "    }\n",
              "    .progress-bar-interrupted, .progress-bar-interrupted::-webkit-progress-bar {\n",
              "        background: #F44336;\n",
              "    }\n",
              "</style>\n"
            ]
          },
          "metadata": {}
        },
        {
          "output_type": "display_data",
          "data": {
            "text/plain": [
              "<IPython.core.display.HTML object>"
            ],
            "text/html": []
          },
          "metadata": {}
        }
      ]
    },
    {
      "cell_type": "code",
      "source": [
        "!pip install voila\n",
        "!jupyter serverextension enable --sys-prefix voila"
      ],
      "metadata": {
        "colab": {
          "base_uri": "https://localhost:8080/",
          "height": 1000
        },
        "id": "IB88UfxFAm9O",
        "outputId": "e9794e1d-d1f7-4656-bb96-ef4024d222ad"
      },
      "execution_count": 8,
      "outputs": [
        {
          "output_type": "stream",
          "name": "stdout",
          "text": [
            "Collecting voila\n",
            "  Downloading voila-0.5.4-py3-none-any.whl (3.3 MB)\n",
            "\u001b[2K     \u001b[90m━━━━━━━━━━━━━━━━━━━━━━━━━━━━━━━━━━━━━━━━\u001b[0m \u001b[32m3.3/3.3 MB\u001b[0m \u001b[31m30.7 MB/s\u001b[0m eta \u001b[36m0:00:00\u001b[0m\n",
            "\u001b[?25hCollecting jupyter-client<9,>=7.4.4 (from voila)\n",
            "  Downloading jupyter_client-8.3.1-py3-none-any.whl (104 kB)\n",
            "\u001b[2K     \u001b[90m━━━━━━━━━━━━━━━━━━━━━━━━━━━━━━━━━━━━━━\u001b[0m \u001b[32m104.1/104.1 kB\u001b[0m \u001b[31m13.8 MB/s\u001b[0m eta \u001b[36m0:00:00\u001b[0m\n",
            "\u001b[?25hRequirement already satisfied: jupyter-core>=4.11.0 in /usr/local/lib/python3.10/dist-packages (from voila) (5.3.1)\n",
            "Collecting jupyter-server<3,>=2.0.0 (from voila)\n",
            "  Downloading jupyter_server-2.7.3-py3-none-any.whl (375 kB)\n",
            "\u001b[2K     \u001b[90m━━━━━━━━━━━━━━━━━━━━━━━━━━━━━━━━━━━━━━\u001b[0m \u001b[32m375.6/375.6 kB\u001b[0m \u001b[31m35.1 MB/s\u001b[0m eta \u001b[36m0:00:00\u001b[0m\n",
            "\u001b[?25hCollecting jupyterlab-server<3,>=2.3.0 (from voila)\n",
            "  Downloading jupyterlab_server-2.25.0-py3-none-any.whl (57 kB)\n",
            "\u001b[2K     \u001b[90m━━━━━━━━━━━━━━━━━━━━━━━━━━━━━━━━━━━━━━━━\u001b[0m \u001b[32m57.2/57.2 kB\u001b[0m \u001b[31m7.1 MB/s\u001b[0m eta \u001b[36m0:00:00\u001b[0m\n",
            "\u001b[?25hCollecting nbclient<0.8,>=0.4.0 (from voila)\n",
            "  Downloading nbclient-0.7.4-py3-none-any.whl (73 kB)\n",
            "\u001b[2K     \u001b[90m━━━━━━━━━━━━━━━━━━━━━━━━━━━━━━━━━━━━━━━━\u001b[0m \u001b[32m73.1/73.1 kB\u001b[0m \u001b[31m9.7 MB/s\u001b[0m eta \u001b[36m0:00:00\u001b[0m\n",
            "\u001b[?25hRequirement already satisfied: nbconvert<8,>=6.4.5 in /usr/local/lib/python3.10/dist-packages (from voila) (6.5.4)\n",
            "Requirement already satisfied: traitlets<6,>=5.0.3 in /usr/local/lib/python3.10/dist-packages (from voila) (5.7.1)\n",
            "Collecting websockets>=9.0 (from voila)\n",
            "  Downloading websockets-11.0.3-cp310-cp310-manylinux_2_5_x86_64.manylinux1_x86_64.manylinux_2_17_x86_64.manylinux2014_x86_64.whl (129 kB)\n",
            "\u001b[2K     \u001b[90m━━━━━━━━━━━━━━━━━━━━━━━━━━━━━━━━━━━━━━\u001b[0m \u001b[32m129.9/129.9 kB\u001b[0m \u001b[31m16.2 MB/s\u001b[0m eta \u001b[36m0:00:00\u001b[0m\n",
            "\u001b[?25hRequirement already satisfied: python-dateutil>=2.8.2 in /usr/local/lib/python3.10/dist-packages (from jupyter-client<9,>=7.4.4->voila) (2.8.2)\n",
            "Requirement already satisfied: pyzmq>=23.0 in /usr/local/lib/python3.10/dist-packages (from jupyter-client<9,>=7.4.4->voila) (23.2.1)\n",
            "Requirement already satisfied: tornado>=6.2 in /usr/local/lib/python3.10/dist-packages (from jupyter-client<9,>=7.4.4->voila) (6.3.2)\n",
            "Requirement already satisfied: platformdirs>=2.5 in /usr/local/lib/python3.10/dist-packages (from jupyter-core>=4.11.0->voila) (3.10.0)\n",
            "Requirement already satisfied: anyio>=3.1.0 in /usr/local/lib/python3.10/dist-packages (from jupyter-server<3,>=2.0.0->voila) (3.7.1)\n",
            "Requirement already satisfied: argon2-cffi in /usr/local/lib/python3.10/dist-packages (from jupyter-server<3,>=2.0.0->voila) (23.1.0)\n",
            "Requirement already satisfied: jinja2 in /usr/local/lib/python3.10/dist-packages (from jupyter-server<3,>=2.0.0->voila) (3.1.2)\n",
            "Collecting jupyter-events>=0.6.0 (from jupyter-server<3,>=2.0.0->voila)\n",
            "  Downloading jupyter_events-0.7.0-py3-none-any.whl (18 kB)\n",
            "Collecting jupyter-server-terminals (from jupyter-server<3,>=2.0.0->voila)\n",
            "  Downloading jupyter_server_terminals-0.4.4-py3-none-any.whl (13 kB)\n",
            "Requirement already satisfied: nbformat>=5.3.0 in /usr/local/lib/python3.10/dist-packages (from jupyter-server<3,>=2.0.0->voila) (5.9.2)\n",
            "Collecting overrides (from jupyter-server<3,>=2.0.0->voila)\n",
            "  Downloading overrides-7.4.0-py3-none-any.whl (17 kB)\n",
            "Requirement already satisfied: packaging in /usr/local/lib/python3.10/dist-packages (from jupyter-server<3,>=2.0.0->voila) (23.1)\n",
            "Requirement already satisfied: prometheus-client in /usr/local/lib/python3.10/dist-packages (from jupyter-server<3,>=2.0.0->voila) (0.17.1)\n",
            "Collecting pyzmq>=23.0 (from jupyter-client<9,>=7.4.4->voila)\n",
            "  Downloading pyzmq-25.1.1-cp310-cp310-manylinux_2_28_x86_64.whl (1.1 MB)\n",
            "\u001b[2K     \u001b[90m━━━━━━━━━━━━━━━━━━━━━━━━━━━━━━━━━━━━━━━━\u001b[0m \u001b[32m1.1/1.1 MB\u001b[0m \u001b[31m68.6 MB/s\u001b[0m eta \u001b[36m0:00:00\u001b[0m\n",
            "\u001b[?25hRequirement already satisfied: send2trash>=1.8.2 in /usr/local/lib/python3.10/dist-packages (from jupyter-server<3,>=2.0.0->voila) (1.8.2)\n",
            "Requirement already satisfied: terminado>=0.8.3 in /usr/local/lib/python3.10/dist-packages (from jupyter-server<3,>=2.0.0->voila) (0.17.1)\n",
            "Requirement already satisfied: websocket-client in /usr/local/lib/python3.10/dist-packages (from jupyter-server<3,>=2.0.0->voila) (1.6.2)\n",
            "Requirement already satisfied: babel>=2.10 in /usr/local/lib/python3.10/dist-packages (from jupyterlab-server<3,>=2.3.0->voila) (2.12.1)\n",
            "Collecting json5>=0.9.0 (from jupyterlab-server<3,>=2.3.0->voila)\n",
            "  Downloading json5-0.9.14-py2.py3-none-any.whl (19 kB)\n",
            "Requirement already satisfied: jsonschema>=4.18.0 in /usr/local/lib/python3.10/dist-packages (from jupyterlab-server<3,>=2.3.0->voila) (4.19.0)\n",
            "Requirement already satisfied: requests>=2.31 in /usr/local/lib/python3.10/dist-packages (from jupyterlab-server<3,>=2.3.0->voila) (2.31.0)\n",
            "Requirement already satisfied: lxml in /usr/local/lib/python3.10/dist-packages (from nbconvert<8,>=6.4.5->voila) (4.9.3)\n",
            "Requirement already satisfied: beautifulsoup4 in /usr/local/lib/python3.10/dist-packages (from nbconvert<8,>=6.4.5->voila) (4.11.2)\n",
            "Requirement already satisfied: bleach in /usr/local/lib/python3.10/dist-packages (from nbconvert<8,>=6.4.5->voila) (6.0.0)\n",
            "Requirement already satisfied: defusedxml in /usr/local/lib/python3.10/dist-packages (from nbconvert<8,>=6.4.5->voila) (0.7.1)\n",
            "Requirement already satisfied: entrypoints>=0.2.2 in /usr/local/lib/python3.10/dist-packages (from nbconvert<8,>=6.4.5->voila) (0.4)\n",
            "Requirement already satisfied: jupyterlab-pygments in /usr/local/lib/python3.10/dist-packages (from nbconvert<8,>=6.4.5->voila) (0.2.2)\n",
            "Requirement already satisfied: MarkupSafe>=2.0 in /usr/local/lib/python3.10/dist-packages (from nbconvert<8,>=6.4.5->voila) (2.1.3)\n",
            "Requirement already satisfied: mistune<2,>=0.8.1 in /usr/local/lib/python3.10/dist-packages (from nbconvert<8,>=6.4.5->voila) (0.8.4)\n",
            "Requirement already satisfied: pandocfilters>=1.4.1 in /usr/local/lib/python3.10/dist-packages (from nbconvert<8,>=6.4.5->voila) (1.5.0)\n",
            "Requirement already satisfied: pygments>=2.4.1 in /usr/local/lib/python3.10/dist-packages (from nbconvert<8,>=6.4.5->voila) (2.16.1)\n",
            "Requirement already satisfied: tinycss2 in /usr/local/lib/python3.10/dist-packages (from nbconvert<8,>=6.4.5->voila) (1.2.1)\n",
            "Requirement already satisfied: idna>=2.8 in /usr/local/lib/python3.10/dist-packages (from anyio>=3.1.0->jupyter-server<3,>=2.0.0->voila) (3.4)\n",
            "Requirement already satisfied: sniffio>=1.1 in /usr/local/lib/python3.10/dist-packages (from anyio>=3.1.0->jupyter-server<3,>=2.0.0->voila) (1.3.0)\n",
            "Requirement already satisfied: exceptiongroup in /usr/local/lib/python3.10/dist-packages (from anyio>=3.1.0->jupyter-server<3,>=2.0.0->voila) (1.1.3)\n",
            "Requirement already satisfied: attrs>=22.2.0 in /usr/local/lib/python3.10/dist-packages (from jsonschema>=4.18.0->jupyterlab-server<3,>=2.3.0->voila) (23.1.0)\n",
            "Requirement already satisfied: jsonschema-specifications>=2023.03.6 in /usr/local/lib/python3.10/dist-packages (from jsonschema>=4.18.0->jupyterlab-server<3,>=2.3.0->voila) (2023.7.1)\n",
            "Requirement already satisfied: referencing>=0.28.4 in /usr/local/lib/python3.10/dist-packages (from jsonschema>=4.18.0->jupyterlab-server<3,>=2.3.0->voila) (0.30.2)\n",
            "Requirement already satisfied: rpds-py>=0.7.1 in /usr/local/lib/python3.10/dist-packages (from jsonschema>=4.18.0->jupyterlab-server<3,>=2.3.0->voila) (0.10.2)\n",
            "Collecting python-json-logger>=2.0.4 (from jupyter-events>=0.6.0->jupyter-server<3,>=2.0.0->voila)\n",
            "  Downloading python_json_logger-2.0.7-py3-none-any.whl (8.1 kB)\n",
            "Requirement already satisfied: pyyaml>=5.3 in /usr/local/lib/python3.10/dist-packages (from jupyter-events>=0.6.0->jupyter-server<3,>=2.0.0->voila) (6.0.1)\n",
            "Collecting rfc3339-validator (from jupyter-events>=0.6.0->jupyter-server<3,>=2.0.0->voila)\n",
            "  Downloading rfc3339_validator-0.1.4-py2.py3-none-any.whl (3.5 kB)\n",
            "Collecting rfc3986-validator>=0.1.1 (from jupyter-events>=0.6.0->jupyter-server<3,>=2.0.0->voila)\n",
            "  Downloading rfc3986_validator-0.1.1-py2.py3-none-any.whl (4.2 kB)\n",
            "Requirement already satisfied: fastjsonschema in /usr/local/lib/python3.10/dist-packages (from nbformat>=5.3.0->jupyter-server<3,>=2.0.0->voila) (2.18.0)\n",
            "Requirement already satisfied: six>=1.5 in /usr/local/lib/python3.10/dist-packages (from python-dateutil>=2.8.2->jupyter-client<9,>=7.4.4->voila) (1.16.0)\n",
            "Requirement already satisfied: charset-normalizer<4,>=2 in /usr/local/lib/python3.10/dist-packages (from requests>=2.31->jupyterlab-server<3,>=2.3.0->voila) (3.2.0)\n",
            "Requirement already satisfied: urllib3<3,>=1.21.1 in /usr/local/lib/python3.10/dist-packages (from requests>=2.31->jupyterlab-server<3,>=2.3.0->voila) (2.0.4)\n",
            "Requirement already satisfied: certifi>=2017.4.17 in /usr/local/lib/python3.10/dist-packages (from requests>=2.31->jupyterlab-server<3,>=2.3.0->voila) (2023.7.22)\n",
            "Requirement already satisfied: ptyprocess in /usr/local/lib/python3.10/dist-packages (from terminado>=0.8.3->jupyter-server<3,>=2.0.0->voila) (0.7.0)\n",
            "Requirement already satisfied: argon2-cffi-bindings in /usr/local/lib/python3.10/dist-packages (from argon2-cffi->jupyter-server<3,>=2.0.0->voila) (21.2.0)\n",
            "Requirement already satisfied: soupsieve>1.2 in /usr/local/lib/python3.10/dist-packages (from beautifulsoup4->nbconvert<8,>=6.4.5->voila) (2.5)\n",
            "Requirement already satisfied: webencodings in /usr/local/lib/python3.10/dist-packages (from bleach->nbconvert<8,>=6.4.5->voila) (0.5.1)\n",
            "Collecting fqdn (from jsonschema>=4.18.0->jupyterlab-server<3,>=2.3.0->voila)\n",
            "  Downloading fqdn-1.5.1-py3-none-any.whl (9.1 kB)\n",
            "Collecting isoduration (from jsonschema>=4.18.0->jupyterlab-server<3,>=2.3.0->voila)\n",
            "  Downloading isoduration-20.11.0-py3-none-any.whl (11 kB)\n",
            "Collecting jsonpointer>1.13 (from jsonschema>=4.18.0->jupyterlab-server<3,>=2.3.0->voila)\n",
            "  Downloading jsonpointer-2.4-py2.py3-none-any.whl (7.8 kB)\n",
            "Collecting uri-template (from jsonschema>=4.18.0->jupyterlab-server<3,>=2.3.0->voila)\n",
            "  Downloading uri_template-1.3.0-py3-none-any.whl (11 kB)\n",
            "Requirement already satisfied: webcolors>=1.11 in /usr/local/lib/python3.10/dist-packages (from jsonschema>=4.18.0->jupyterlab-server<3,>=2.3.0->voila) (1.13)\n",
            "Requirement already satisfied: cffi>=1.0.1 in /usr/local/lib/python3.10/dist-packages (from argon2-cffi-bindings->argon2-cffi->jupyter-server<3,>=2.0.0->voila) (1.15.1)\n",
            "Requirement already satisfied: pycparser in /usr/local/lib/python3.10/dist-packages (from cffi>=1.0.1->argon2-cffi-bindings->argon2-cffi->jupyter-server<3,>=2.0.0->voila) (2.21)\n",
            "Collecting arrow>=0.15.0 (from isoduration->jsonschema>=4.18.0->jupyterlab-server<3,>=2.3.0->voila)\n",
            "  Downloading arrow-1.3.0-py3-none-any.whl (66 kB)\n",
            "\u001b[2K     \u001b[90m━━━━━━━━━━━━━━━━━━━━━━━━━━━━━━━━━━━━━━━━\u001b[0m \u001b[32m66.4/66.4 kB\u001b[0m \u001b[31m8.6 MB/s\u001b[0m eta \u001b[36m0:00:00\u001b[0m\n",
            "\u001b[?25hCollecting types-python-dateutil>=2.8.10 (from arrow>=0.15.0->isoduration->jsonschema>=4.18.0->jupyterlab-server<3,>=2.3.0->voila)\n",
            "  Downloading types_python_dateutil-2.8.19.14-py3-none-any.whl (9.4 kB)\n",
            "Installing collected packages: types-python-dateutil, json5, websockets, uri-template, rfc3986-validator, rfc3339-validator, pyzmq, python-json-logger, overrides, jsonpointer, fqdn, jupyter-server-terminals, jupyter-client, arrow, isoduration, nbclient, jupyter-events, jupyter-server, jupyterlab-server, voila\n",
            "  Attempting uninstall: pyzmq\n",
            "    Found existing installation: pyzmq 23.2.1\n",
            "    Uninstalling pyzmq-23.2.1:\n",
            "      Successfully uninstalled pyzmq-23.2.1\n",
            "  Attempting uninstall: jupyter-client\n",
            "    Found existing installation: jupyter-client 6.1.12\n",
            "    Uninstalling jupyter-client-6.1.12:\n",
            "      Successfully uninstalled jupyter-client-6.1.12\n",
            "  Attempting uninstall: nbclient\n",
            "    Found existing installation: nbclient 0.8.0\n",
            "    Uninstalling nbclient-0.8.0:\n",
            "      Successfully uninstalled nbclient-0.8.0\n",
            "  Attempting uninstall: jupyter-server\n",
            "    Found existing installation: jupyter-server 1.24.0\n",
            "    Uninstalling jupyter-server-1.24.0:\n",
            "      Successfully uninstalled jupyter-server-1.24.0\n",
            "\u001b[31mERROR: pip's dependency resolver does not currently take into account all the packages that are installed. This behaviour is the source of the following dependency conflicts.\n",
            "notebook 6.5.5 requires jupyter-client<8,>=5.3.4, but you have jupyter-client 8.3.1 which is incompatible.\n",
            "notebook 6.5.5 requires pyzmq<25,>=17, but you have pyzmq 25.1.1 which is incompatible.\u001b[0m\u001b[31m\n",
            "\u001b[0mSuccessfully installed arrow-1.3.0 fqdn-1.5.1 isoduration-20.11.0 json5-0.9.14 jsonpointer-2.4 jupyter-client-8.3.1 jupyter-events-0.7.0 jupyter-server-2.7.3 jupyter-server-terminals-0.4.4 jupyterlab-server-2.25.0 nbclient-0.7.4 overrides-7.4.0 python-json-logger-2.0.7 pyzmq-25.1.1 rfc3339-validator-0.1.4 rfc3986-validator-0.1.1 types-python-dateutil-2.8.19.14 uri-template-1.3.0 voila-0.5.4 websockets-11.0.3\n"
          ]
        },
        {
          "output_type": "display_data",
          "data": {
            "application/vnd.colab-display-data+json": {
              "pip_warning": {
                "packages": [
                  "zmq"
                ]
              }
            }
          },
          "metadata": {}
        },
        {
          "output_type": "stream",
          "name": "stdout",
          "text": [
            "Enabling: voila\n",
            "- Writing config: /usr/etc/jupyter\n",
            "    - Validating...\n",
            "      voila 0.5.4 \u001b[32mOK\u001b[0m\n"
          ]
        }
      ]
    }
  ]
}